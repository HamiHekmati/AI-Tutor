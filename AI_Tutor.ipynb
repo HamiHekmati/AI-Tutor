{
  "nbformat": 4,
  "nbformat_minor": 0,
  "metadata": {
    "colab": {
      "provenance": []
    },
    "kernelspec": {
      "name": "python3",
      "display_name": "Python 3"
    },
    "language_info": {
      "name": "python"
    }
  },
  "cells": [
    {
      "cell_type": "markdown",
      "source": [
        "**OpenAI API Key Setup**\n",
        "\n",
        "In this notebook, we ensure secure access to OpenAI services by configuring the API key using Google Colab’s secret management. The code imports necessary modules and retrieves the OPENAI_API_KEY from Colab’s encrypted storage, setting it as an environment variable"
      ],
      "metadata": {
        "id": "YR2V3trQ2mD_"
      }
    },
    {
      "cell_type": "code",
      "source": [
        "import os\n",
        "from google.colab import userdata\n",
        "\n",
        "os.environ[\"OPENAI_API_KEY\"] = userdata.get('OPENAI_API_KEY')"
      ],
      "metadata": {
        "id": "axaiolPTp1_r"
      },
      "execution_count": 26,
      "outputs": []
    },
    {
      "cell_type": "markdown",
      "source": [
        "**AI Learning Tutor Initialization**\n",
        "\n",
        "This setup imports key libraries and configures the AI tutor with OpenAI’s gpt-3.5-turbo model and embedding tools. By combining Gradio, CrewAI, and LangChain components, the foundation is laid for interactive and intelligent lesson generation, enabling dynamic and context-aware learning experiences.\n"
      ],
      "metadata": {
        "id": "rgsycBDu3AxO"
      }
    },
    {
      "cell_type": "code",
      "source": [
        "import gradio as gr\n",
        "import os\n",
        "from crewai import Agent, Crew, Task\n",
        "from langchain.chat_models import ChatOpenAI\n",
        "from langchain.embeddings import OpenAIEmbeddings\n",
        "\n",
        "# Setup OpenAI LLM and Embeddings\n",
        "llm = ChatOpenAI(model=\"gpt-3.5-turbo\", temperature=0.5)\n",
        "embedding_model = OpenAIEmbeddings()"
      ],
      "metadata": {
        "id": "oA7-WPK3rv7r"
      },
      "execution_count": 27,
      "outputs": []
    },
    {
      "cell_type": "markdown",
      "source": [
        "**CrewAI Agent Configuration**\n",
        "\n",
        "This section defines specialized AI agents that drive the lesson planning and generation process. The Curriculum Planner agent is tasked with breaking down any topic into logical, step-by-step subtopics, while the Lesson Writer agent crafts clear, engaging lesson content with explanations and analogies. Together, these agents form the collaborative intelligence at the core of the AI Learning Tutor."
      ],
      "metadata": {
        "id": "fXFCavsl3v_C"
      }
    },
    {
      "cell_type": "code",
      "source": [
        "# Define CrewAI Agents\n",
        "\n",
        "lesson_planner = Agent(\n",
        "    role=\"Curriculum Planner\",\n",
        "    goal=\"Break down any topic into logical subtopics\",\n",
        "    backstory=\"You're a professional curriculum designer who can deconstruct complex topics into step-by-step lessons.\",\n",
        "    llm=llm,\n",
        "    allow_delegation=False,\n",
        "    verbose=True\n",
        ")\n",
        "\n",
        "lesson_generator = Agent(\n",
        "    role=\"Lesson Writer\",\n",
        "    goal=\"Create lessons with explanations and analogies\",\n",
        "    backstory=\"You're an educator who writes clear, engaging, and structured lesson content for self-learners.\",\n",
        "    llm=llm,\n",
        "    allow_delegation=False,\n",
        "    verbose=True\n",
        ")"
      ],
      "metadata": {
        "id": "K826wy3jsDM0"
      },
      "execution_count": 28,
      "outputs": []
    },
    {
      "cell_type": "markdown",
      "source": [
        "**Tutor Logic Overview**\n",
        "\n",
        "The Tutor Logic function manages the core flow of lesson creation. Once a topic and learner difficulty are selected, it directs CrewAI agents to break down the subject, generate a tailored lesson, and create focused flashcards, all designed to match the learner’s skill level. This ensures a cohesive, adaptive, and user-centered learning experience from start to finish."
      ],
      "metadata": {
        "id": "UBfy_vl-5NHu"
      }
    },
    {
      "cell_type": "code",
      "source": [
        "# Tutor Logic\n",
        "\n",
        "def run_tutor(topic, difficulty):\n",
        "    try:\n",
        "        # Use difficulty level in prompt\n",
        "        planning_task = Task(\n",
        "            description=(\n",
        "                f\"Break down the topic: {topic} into a logical series of subtopics for a {difficulty.lower()} learner \"\n",
        "                \"that build understanding step by step.\"\n",
        "            ),\n",
        "            agent=lesson_planner,\n",
        "            expected_output=(\n",
        "                \"A list of clear and logically ordered subtopics required to learn the full topic.\"\n",
        "            )\n",
        "        )\n",
        "\n",
        "        generation_task = Task(\n",
        "            description=(\n",
        "                f\"Write a structured and engaging {difficulty.lower()}-level lesson based on the first subtopic of the topic: {topic}.\\n\"\n",
        "                \"Include the following clearly labeled sections:\\n\"\n",
        "                \"1. Title (formatted as 'Lesson: ...')\\n\"\n",
        "                \"2. Definition\\n\"\n",
        "                \"3. Explanation with Examples\\n\"\n",
        "                \"4. Analogies\\n\"\n",
        "                \"5. Summary\\n\\n\"\n",
        "                \"Write in full sentences. Avoid bullet points or markdown.\"\n",
        "            ),\n",
        "            agent=lesson_generator,\n",
        "            expected_output=\"A complete educational lesson.\"\n",
        "        )\n",
        "\n",
        "        flashcard_task = Task(\n",
        "            description=(\n",
        "                f\"Generate 3 flashcards for the topic: {topic}, tailored to a {difficulty.lower()} learner.\\n\"\n",
        "                \"Format:\\n\"\n",
        "                \"Q1: ...\\nA1: ...\\nQ2: ...\\nA2: ...\\nQ3: ...\\nA3: ...\\n\\n\"\n",
        "                \"Plain text only. No markdown or lists.\"\n",
        "            ),\n",
        "            agent=lesson_generator,\n",
        "            expected_output=\"Three clearly numbered flashcards in Q&A format.\"\n",
        "        )\n",
        "\n",
        "        crew = Crew(\n",
        "            agents=[lesson_planner, lesson_generator],\n",
        "            tasks=[planning_task, generation_task, flashcard_task],\n",
        "            verbose=True\n",
        "        )\n",
        "        crew.kickoff()\n",
        "\n",
        "        lesson = str(generation_task.output).strip() if generation_task.output else \" Lesson not available.\"\n",
        "        flashcards = str(flashcard_task.output).strip() if flashcard_task.output else \" Flashcards not available.\"\n",
        "\n",
        "        return lesson, flashcards\n",
        "\n",
        "    except Exception as e:\n",
        "        return f\" Error: {str(e)}\", \"\"\n"
      ],
      "metadata": {
        "id": "O8UpD6cbsLeL"
      },
      "execution_count": 29,
      "outputs": []
    },
    {
      "cell_type": "markdown",
      "source": [
        "**User Interface and Interaction**\n",
        "\n",
        "Leveraging Gradio’s intuitive framework, this interface invites users to engage directly with the AI tutor. The layout features straightforward inputs for topic selection and difficulty, alongside immediate outputs for the generated lesson and flashcards. This interactive setup streamlines the learning process, delivering personalized educational content in a user-friendly format."
      ],
      "metadata": {
        "id": "yNZ7-3Wo5_l3"
      }
    },
    {
      "cell_type": "code",
      "source": [
        "import gradio as gr\n",
        "\n",
        "def tutor_interface(topic, difficulty):\n",
        "    lesson, flashcards = run_tutor(topic, difficulty)\n",
        "    return lesson, flashcards\n",
        "\n",
        "with gr.Blocks(title=\"AI Tutor\") as demo:\n",
        "    # Header and Description\n",
        "    gr.Markdown(\"## 🧠 AI Tutor\")\n",
        "    gr.Markdown(\"Enter a topic to generate a structured lesson and helpful flashcards using CrewAI + OpenAI.\")\n",
        "\n",
        "\n",
        "    # Topic Input\n",
        "    with gr.Row():\n",
        "        topic_input = gr.Textbox(label=\"Enter Topic\", placeholder=\"e.g., Machine Learning\")\n",
        "        difficulty_input = gr.Dropdown(\n",
        "            choices=[\"Beginner\", \"Intermediate\", \"Advanced\"],\n",
        "            label=\"🎯 Select Difficulty Level\",\n",
        "            value=\"Beginner\"\n",
        "        )\n",
        "    # Submit Button\n",
        "    submit_btn = gr.Button(\"🚀 Submit\")\n",
        "\n",
        "    # Output Row\n",
        "    with gr.Row():\n",
        "        lesson_output = gr.Textbox(label=\"📘 Lesson\", lines=20)\n",
        "        flashcard_output = gr.Textbox(label=\"🧠 Flashcards\", lines=20)\n",
        "\n",
        "    # Click Logic\n",
        "    submit_btn.click(fn=tutor_interface, inputs=[topic_input, difficulty_input], outputs=[lesson_output, flashcard_output])\n",
        "\n",
        "demo.launch()"
      ],
      "metadata": {
        "colab": {
          "base_uri": "https://localhost:8080/",
          "height": 627
        },
        "id": "zrHOPoGFsPHq",
        "outputId": "6598736a-14ff-46f2-d7f0-b1909fcac46e"
      },
      "execution_count": 33,
      "outputs": [
        {
          "output_type": "stream",
          "name": "stdout",
          "text": [
            "It looks like you are running Gradio on a hosted Jupyter notebook, which requires `share=True`. Automatically setting `share=True` (you can turn this off by setting `share=False` in `launch()` explicitly).\n",
            "\n",
            "Colab notebook detected. To show errors in colab notebook, set debug=True in launch()\n",
            "* Running on public URL: https://c8801d48fac16c7e8c.gradio.live\n",
            "\n",
            "This share link expires in 1 week. For free permanent hosting and GPU upgrades, run `gradio deploy` from the terminal in the working directory to deploy to Hugging Face Spaces (https://huggingface.co/spaces)\n"
          ]
        },
        {
          "output_type": "display_data",
          "data": {
            "text/plain": [
              "<IPython.core.display.HTML object>"
            ],
            "text/html": [
              "<div><iframe src=\"https://c8801d48fac16c7e8c.gradio.live\" width=\"100%\" height=\"500\" allow=\"autoplay; camera; microphone; clipboard-read; clipboard-write;\" frameborder=\"0\" allowfullscreen></iframe></div>"
            ]
          },
          "metadata": {}
        },
        {
          "output_type": "execute_result",
          "data": {
            "text/plain": []
          },
          "metadata": {},
          "execution_count": 33
        }
      ]
    }
  ]
}